{
 "cells": [
  {
   "cell_type": "code",
   "execution_count": null,
   "metadata": {},
   "outputs": [],
   "source": [
    "import mailbox\n",
    "import re\n",
    "import requests\n",
    "from tqdm.notebook import tqdm\n",
    "import datetime\n",
    "from concurrent.futures import ThreadPoolExecutor, as_completed\n",
    "import email.utils"
   ]
  },
  {
   "cell_type": "markdown",
   "metadata": {},
   "source": [
    "### Please modify these according to your needs\n",
    "\n",
    "The folder should look like this\n",
    "\n",
    "```\n",
    "❯ tree\n",
    ".\n",
    "├── README.md\n",
    "├── Takeout\n",
    "│   ├── Mail\n",
    "│   │   └── Spam.mbox\n",
    "│   └── archive_browser.html\n",
    "├── takeout-20231206T082003Z-001.zip\n",
    "└── unsub.ipynb\n",
    "```"
   ]
  },
  {
   "cell_type": "code",
   "execution_count": null,
   "metadata": {},
   "outputs": [],
   "source": [
    "#  Path to your takeout\n",
    "mbox_path = 'Takeout/Mail/Spam.mbox'\n",
    "#  Only emails within the last `days` will be used. Set to None to take all.\n",
    "days=10"
   ]
  },
  {
   "cell_type": "code",
   "execution_count": 1,
   "metadata": {},
   "outputs": [],
   "source": [
    "def find_unsubscribe_links(email_body):\n",
    "    url_pattern = r'https?://[^\\s<>\"]+|www\\.[^\\s<>\"]+'\n",
    "    unsubscribe_pattern = re.compile(r'unsubscribe', re.IGNORECASE)\n",
    "\n",
    "    urls = re.findall(url_pattern, email_body)\n",
    "    unsubscribe_links = [url for url in urls if unsubscribe_pattern.search(url)]\n",
    "    return unsubscribe_links"
   ]
  },
  {
   "cell_type": "code",
   "execution_count": null,
   "metadata": {},
   "outputs": [],
   "source": [
    "def send_unsubscribe_request(url):\n",
    "    headers = {\n",
    "        'User-Agent': 'Mozilla/5.0 (Windows NT 10.0; Win64; x64; rv:94.0) Gecko/20100101 Firefox/94.0'\n",
    "    }\n",
    "    try:\n",
    "        response = requests.get(url, headers=headers, timeout=10)\n",
    "        if response.status_code == 200:\n",
    "            print(f\"Unsubscribe request sent successfully to {url}\")\n",
    "        else:\n",
    "            print(f\"Failed to send unsubscribe request to {url}, status code: {response.status_code}\")\n",
    "    except requests.RequestException as e:\n",
    "        print(f\"Error sending unsubscribe request to {url}: {e}\")"
   ]
  },
  {
   "cell_type": "code",
   "execution_count": null,
   "metadata": {},
   "outputs": [],
   "source": [
    "def is_recent(email_date):\n",
    "    if days is None:\n",
    "        return True\n",
    "    email_datetime = datetime.datetime.fromtimestamp(email_date)\n",
    "    return datetime.datetime.now() - email_datetime < datetime.timedelta(days=days)"
   ]
  },
  {
   "cell_type": "code",
   "execution_count": null,
   "metadata": {},
   "outputs": [],
   "source": [
    "mbox = mailbox.mbox(mbox_path)\n",
    "unique_links = set()"
   ]
  },
  {
   "cell_type": "code",
   "execution_count": null,
   "metadata": {},
   "outputs": [],
   "source": [
    "for message in tqdm(mbox):\n",
    "    if message.get('Date'):\n",
    "        date_tuple = email.utils.parsedate_tz(message.get('Date'))\n",
    "        if date_tuple and is_recent(email.utils.mktime_tz(date_tuple)):\n",
    "            if message.is_multipart():\n",
    "                for part in message.walk():\n",
    "                    content_type = part.get_content_type()\n",
    "                    if content_type in ['text/plain', 'text/html']:\n",
    "                        email_body = part.get_payload(decode=True).decode('utf-8', errors='ignore')\n",
    "                        links = find_unsubscribe_links(email_body)\n",
    "                        unique_links.update(links)\n",
    "            else:\n",
    "                email_body = message.get_payload(decode=True).decode('utf-8', errors='ignore')\n",
    "                links = find_unsubscribe_links(email_body)\n",
    "                unique_links.update(links)\n",
    "\n",
    "with ThreadPoolExecutor(max_workers=10) as executor:\n",
    "    futures = [executor.submit(send_unsubscribe_request, link) for link in unique_links]\n",
    "    for future in tqdm(as_completed(futures), total=len(futures)):\n",
    "        future.result()"
   ]
  },
  {
   "cell_type": "code",
   "execution_count": null,
   "metadata": {},
   "outputs": [],
   "source": []
  }
 ],
 "metadata": {
  "kernelspec": {
   "display_name": "unsubsribe",
   "language": "python",
   "name": "python3"
  },
  "language_info": {
   "codemirror_mode": {
    "name": "ipython",
    "version": 3
   },
   "file_extension": ".py",
   "mimetype": "text/x-python",
   "name": "python",
   "nbconvert_exporter": "python",
   "pygments_lexer": "ipython3",
   "version": "3.12.0"
  }
 },
 "nbformat": 4,
 "nbformat_minor": 2
}
